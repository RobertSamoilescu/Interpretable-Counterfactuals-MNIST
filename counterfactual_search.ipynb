{
 "cells": [
  {
   "cell_type": "code",
   "execution_count": 1,
   "metadata": {},
   "outputs": [],
   "source": [
    "import os\n",
    "import numpy as np\n",
    "\n",
    "import torch\n",
    "import torch.nn as nn\n",
    "import torch.nn.functional as F\n",
    "import torchvision.datasets as datasets\n",
    "import torchvision.transforms as transforms\n",
    "from torchvision.utils import make_grid\n",
    "\n",
    "import models\n",
    "import utils\n",
    "from counterfactual_search import *"
   ]
  },
  {
   "cell_type": "markdown",
   "metadata": {},
   "source": [
    "## Load MNIST dataset"
   ]
  },
  {
   "cell_type": "code",
   "execution_count": 2,
   "metadata": {},
   "outputs": [],
   "source": [
    "# define transfroms\n",
    "transform = transforms.Compose([\n",
    "    transforms.ToTensor(),\n",
    "    transforms.Normalize((0.5, ), (0.5, ))        \n",
    "])\n",
    "\n",
    "# load mnist train dataset\n",
    "train_ds = datasets.MNIST(\n",
    "    'dataset/',\n",
    "    train=True,\n",
    "    download=True, \n",
    "    transform=transform\n",
    ")\n",
    "\n",
    "# load mnist test dataset\n",
    "test_ds = datasets.MNIST(\n",
    "    'dataset/',\n",
    "    train=False,\n",
    "    download=True,\n",
    "    transform=transform\n",
    ")"
   ]
  },
  {
   "cell_type": "markdown",
   "metadata": {},
   "source": [
    "## Load/Train & test the auto-encoder"
   ]
  },
  {
   "cell_type": "code",
   "execution_count": 3,
   "metadata": {},
   "outputs": [
    {
     "name": "stdout",
     "output_type": "stream",
     "text": [
      "Auto-encoder loaded ...\n"
     ]
    },
    {
     "data": {
      "image/png": "[encoded data removed]",
      "text/plain": [
       "<Figure size 432x288 with 1 Axes>"
      ]
     },
     "metadata": {
      "needs_background": "light"
     },
     "output_type": "display_data"
    }
   ],
   "source": [
    "# define auto-encoder\n",
    "ae = models.AE()\n",
    "\n",
    "# train autoencoder if necessary\n",
    "ae_root_dir = os.path.join(\"ckpts\", \"ae\")\n",
    "ae_path = os.path.join(ae_root_dir, \"ckpt.pt\")\n",
    "\n",
    "if os.path.exists(ae_path):\n",
    "    # load pre-trained auto-encoder\n",
    "    ae.load_state_dict(torch.load(ae_path))\n",
    "    print(\"Auto-encoder loaded ...\")\n",
    "    \n",
    "else:\n",
    "    # train the auto-encoder\n",
    "    utils.fit(\n",
    "        model=ae,\n",
    "        train_ds=train_ds,\n",
    "        optimizer=torch.optim.Adam(ae.parameters(), lr=1e-3),\n",
    "        criterion=torch.nn.MSELoss(reduction='mean'),\n",
    "        epochs=4, \n",
    "        batch_size=128, \n",
    "        vis_inter=100,\n",
    "        tuple_flag=False\n",
    "    )\n",
    "    print(\"Auto-encoder trained ... \")\n",
    "    \n",
    "    # save the autoencoder\n",
    "    if not os.path.exists(ae_root_dir):\n",
    "        os.makedirs(ae_root_dir)\n",
    "        \n",
    "    torch.save(ae.cpu().state_dict(), ae_path)\n",
    "    print(\"Auto-encoder saved ...\")\n",
    "    \n",
    "# test the autoencoder\n",
    "utils.display_ae(ae, test_ds, batch_size=6)"
   ]
  },
  {
   "cell_type": "markdown",
   "metadata": {},
   "source": [
    "## Load/Train & test the classifier"
   ]
  },
  {
   "cell_type": "code",
   "execution_count": 4,
   "metadata": {},
   "outputs": [
    {
     "name": "stdout",
     "output_type": "stream",
     "text": [
      "Classifier loaded ...\n",
      "Train accuracy: 0.991 \tTest accuracy: 0.986\n"
     ]
    }
   ],
   "source": [
    "# define auto-encoder\n",
    "clf = models.Classifier()\n",
    "\n",
    "# train the classifier if necessary\n",
    "clf_root_dir = os.path.join(\"ckpts\", \"clf\")\n",
    "clf_path = os.path.join(clf_root_dir, \"ckpt.pt\")\n",
    "\n",
    "if os.path.exists(clf_path):\n",
    "    # load pre-trained classifier\n",
    "    clf.load_state_dict(torch.load(clf_path))\n",
    "    print(\"Classifier loaded ...\")\n",
    "    \n",
    "else:\n",
    "    # train the classifier\n",
    "    utils.fit(\n",
    "        model=clf,\n",
    "        train_ds=train_ds,\n",
    "        optimizer=torch.optim.Adam(clf.parameters(), lr=1e-3),\n",
    "        criterion=torch.nn.CrossEntropyLoss(reduction='mean'),\n",
    "        epochs=3, \n",
    "        batch_size=32, \n",
    "        vis_inter=300,\n",
    "    )\n",
    "    print(\"Classifier trained ... \")\n",
    "    \n",
    "    # save the classifier\n",
    "    if not os.path.exists(clf_root_dir):\n",
    "        os.makedirs(clf_root_dir)\n",
    "        \n",
    "    torch.save(clf.cpu().state_dict(), clf_path)\n",
    "    print(\"Classifier saved ...\")\n",
    "    \n",
    "# test the classifier\n",
    "train_acc, _ = utils.test_classifier(clf, train_ds, batch_size=128)\n",
    "test_acc, _  = utils.test_classifier(clf, test_ds, batch_size=128)\n",
    "print(\"Train accuracy: %.3f \\tTest accuracy: %.3f\" % (train_acc, test_acc))"
   ]
  },
  {
   "cell_type": "markdown",
   "metadata": {},
   "source": [
    "## Counterfactual Search"
   ]
  },
  {
   "cell_type": "code",
   "execution_count": 5,
   "metadata": {},
   "outputs": [],
   "source": [
    "# create counterfactul search object\n",
    "ctf_search = CounterFactualSearch(dataset=test_ds, ae=ae, clf=clf)"
   ]
  },
  {
   "cell_type": "code",
   "execution_count": 7,
   "metadata": {
    "scrolled": false
   },
   "outputs": [
    {
     "data": {
      "image/png": "[encoded data removed]",
      "text/plain": [
       "<Figure size 432x288 with 1 Axes>"
      ]
     },
     "metadata": {
      "needs_background": "light"
     },
     "output_type": "display_data"
    },
    {
     "name": "stdout",
     "output_type": "stream",
     "text": [
      "Original prediction: 3; \tCounterfactual prediction: 5\n",
      "=============================================================\n",
      "\n"
     ]
    },
    {
     "data": {
      "image/png": "[encoded data removed]",
      "text/plain": [
       "<Figure size 432x288 with 1 Axes>"
      ]
     },
     "metadata": {
      "needs_background": "light"
     },
     "output_type": "display_data"
    },
    {
     "name": "stdout",
     "output_type": "stream",
     "text": [
      "Original prediction: 1; \tCounterfactual prediction: 7\n",
      "=============================================================\n",
      "\n"
     ]
    },
    {
     "data": {
      "image/png": "[encoded data removed]",
      "text/plain": [
       "<Figure size 432x288 with 1 Axes>"
      ]
     },
     "metadata": {
      "needs_background": "light"
     },
     "output_type": "display_data"
    },
    {
     "name": "stdout",
     "output_type": "stream",
     "text": [
      "Original prediction: 6; \tCounterfactual prediction: 0\n",
      "=============================================================\n",
      "\n"
     ]
    },
    {
     "data": {
      "image/png": "[encoded data removed]",
      "text/plain": [
       "<Figure size 432x288 with 1 Axes>"
      ]
     },
     "metadata": {
      "needs_background": "light"
     },
     "output_type": "display_data"
    },
    {
     "name": "stdout",
     "output_type": "stream",
     "text": [
      "Original prediction: 1; \tCounterfactual prediction: 4\n",
      "=============================================================\n",
      "\n"
     ]
    },
    {
     "data": {
      "image/png": "[encoded data removed]",
      "text/plain": [
       "<Figure size 432x288 with 1 Axes>"
      ]
     },
     "metadata": {
      "needs_background": "light"
     },
     "output_type": "display_data"
    },
    {
     "name": "stdout",
     "output_type": "stream",
     "text": [
      "Original prediction: 6; \tCounterfactual prediction: 5\n",
      "=============================================================\n",
      "\n"
     ]
    }
   ],
   "source": [
    "for i in range(5):\n",
    "    # select a random image\n",
    "    rand_idx = np.random.randint(low=0, high=len(test_ds)-1)\n",
    "    img = test_ds[rand_idx][0]\n",
    "\n",
    "    # search counterfactual for the selected image\n",
    "    # play with those a little bit\n",
    "    result = ctf_search.search(img=img, beta=0.1, c=1., gamma=100., theta=100., \n",
    "                               K=10, num_iters=100, verbose=False)\n",
    "\n",
    "    # display original image and the counterfactual\n",
    "    both = torch.cat((result['img'], result['ctf']), dim=0)\n",
    "    utils.show(make_grid(both, normalize=True))\n",
    "\n",
    "    # send models and data to device \n",
    "    device = torch.device(\"cuda\" if torch.cuda.is_available() else \"cpu\")\n",
    "    clf = clf.to(device)\n",
    "    img = result['img'].to(device)\n",
    "    ctf = result['ctf'].to(device)\n",
    "\n",
    "    # compute the predictions for the two instances\n",
    "    with torch.no_grad():\n",
    "        t0 = torch.argmax(clf(img)).item()\n",
    "        t1 = torch.argmax(clf(ctf)).item()\n",
    "\n",
    "    print(f\"Original prediction: {t0}; \\tCounterfactual prediction: {t1}\")\n",
    "    print(\"=============================================================\\n\")"
   ]
  },
  {
   "cell_type": "code",
   "execution_count": null,
   "metadata": {},
   "outputs": [],
   "source": []
  }
 ],
 "metadata": {
  "kernelspec": {
   "display_name": "Python 3",
   "language": "python",
   "name": "python3"
  },
  "language_info": {
   "codemirror_mode": {
    "name": "ipython",
    "version": 3
   },
   "file_extension": ".py",
   "mimetype": "text/x-python",
   "name": "python",
   "nbconvert_exporter": "python",
   "pygments_lexer": "ipython3",
   "version": "3.7.3"
  }
 },
 "nbformat": 4,
 "nbformat_minor": 2
}
